{
 "cells": [
  {
   "cell_type": "code",
   "execution_count": 62,
   "metadata": {},
   "outputs": [],
   "source": [
    "def rulecheck(testnum):\n",
    "    prevtail = testnum % 10\n",
    "    testnum = testnum // 10\n",
    "    seqs = []\n",
    "    cseq = []\n",
    "    while testnum > 0:\n",
    "        tail = testnum % 10\n",
    "        if prevtail < tail:\n",
    "            return False\n",
    "        if prevtail == tail:\n",
    "            if len(cseq) == 0:\n",
    "                cseq.append(prevtail)\n",
    "                cseq.append(tail)\n",
    "            else:\n",
    "                cseq.append(tail)\n",
    "        else:\n",
    "            if len(cseq) > 0:\n",
    "                seqs.append(cseq)\n",
    "                cseq = []\n",
    "        testnum = testnum // 10\n",
    "        prevtail = tail\n",
    "#     print(seqs)\n",
    "    if len(cseq) > 0:\n",
    "        seqs.append(cseq)\n",
    "    if len(seqs) > 0:\n",
    "        for seq in seqs:\n",
    "            if len(seq) == 2:\n",
    "                return True\n",
    "    return False"
   ]
  },
  {
   "cell_type": "code",
   "execution_count": 60,
   "metadata": {},
   "outputs": [
    {
     "name": "stdout",
     "output_type": "stream",
     "text": [
      "True\n"
     ]
    }
   ],
   "source": [
    "print(rulecheck(111122))"
   ]
  },
  {
   "cell_type": "code",
   "execution_count": 63,
   "metadata": {
    "scrolled": false
   },
   "outputs": [
    {
     "name": "stdout",
     "output_type": "stream",
     "text": [
      "763\n"
     ]
    }
   ],
   "source": [
    "lower = 235741\n",
    "upper = 706948\n",
    "\n",
    "acc = 0\n",
    "for i in range(lower, upper+1):\n",
    "    if rulecheck(i):\n",
    "#         print(i)\n",
    "        acc += 1\n",
    "        \n",
    "print(acc)"
   ]
  },
  {
   "cell_type": "code",
   "execution_count": 24,
   "metadata": {},
   "outputs": [],
   "source": [
    "import re"
   ]
  },
  {
   "cell_type": "code",
   "execution_count": 35,
   "metadata": {},
   "outputs": [
    {
     "data": {
      "text/plain": [
       "['1122333']"
      ]
     },
     "execution_count": 35,
     "metadata": {},
     "output_type": "execute_result"
    }
   ],
   "source": [
    "pt = re.compile(r'\\d+')\n",
    "pt.findall('1122333')"
   ]
  },
  {
   "cell_type": "code",
   "execution_count": null,
   "metadata": {},
   "outputs": [],
   "source": []
  }
 ],
 "metadata": {
  "kernelspec": {
   "display_name": "Python 3",
   "language": "python",
   "name": "python3"
  },
  "language_info": {
   "codemirror_mode": {
    "name": "ipython",
    "version": 3
   },
   "file_extension": ".py",
   "mimetype": "text/x-python",
   "name": "python",
   "nbconvert_exporter": "python",
   "pygments_lexer": "ipython3",
   "version": "3.7.3"
  }
 },
 "nbformat": 4,
 "nbformat_minor": 2
}
