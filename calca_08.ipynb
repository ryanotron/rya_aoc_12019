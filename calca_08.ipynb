{
 "cells": [
  {
   "cell_type": "code",
   "execution_count": 13,
   "metadata": {},
   "outputs": [],
   "source": [
    "with open('calca_08_input.txt', 'r') as infile:\n",
    "    instr = [r for r in infile][0][:-1]"
   ]
  },
  {
   "cell_type": "code",
   "execution_count": 14,
   "metadata": {},
   "outputs": [],
   "source": [
    "counts_layers = []\n",
    "n_pixel = 25*6\n",
    "n_layer = len(instr)//(n_pixel)"
   ]
  },
  {
   "cell_type": "code",
   "execution_count": 12,
   "metadata": {},
   "outputs": [
    {
     "name": "stdout",
     "output_type": "stream",
     "text": [
      "6 2684\n"
     ]
    }
   ],
   "source": [
    "for i in range(n_layer):\n",
    "    begindex = i*n_pixel\n",
    "    endex = begindex + n_pixel\n",
    "    lut = instr[begindex:endex]\n",
    "    \n",
    "    counts = [0]*3\n",
    "    for px in lut:\n",
    "        counts[int(px)] += 1\n",
    "        \n",
    "    counts_layers.append(counts)\n",
    "    \n",
    "mincount = n_pixel\n",
    "for count in counts_layers:\n",
    "    if count[0] < mincount:\n",
    "        mincount = count[0]\n",
    "        answer = count[1]*count[2]\n",
    "        \n",
    "print(mincount, answer)"
   ]
  },
  {
   "cell_type": "code",
   "execution_count": 18,
   "metadata": {},
   "outputs": [],
   "source": [
    "message = [2]*n_pixel\n",
    "\n",
    "for i in range(n_pixel):\n",
    "    for j in range(n_layer):\n",
    "        px = instr[j*n_pixel + i]\n",
    "        if not px == '2':\n",
    "            message[i] = int(px)\n",
    "            break"
   ]
  },
  {
   "cell_type": "code",
   "execution_count": 20,
   "metadata": {},
   "outputs": [],
   "source": [
    "%matplotlib inline\n",
    "import numpy as np\n",
    "import matplotlib.pyplot as plt"
   ]
  },
  {
   "cell_type": "code",
   "execution_count": 21,
   "metadata": {},
   "outputs": [
    {
     "data": {
      "text/plain": [
       "<matplotlib.image.AxesImage at 0x7f10e05b9128>"
      ]
     },
     "execution_count": 21,
     "metadata": {},
     "output_type": "execute_result"
    },
    {
     "data": {
      "image/png": "[encoded data removed]",
      "text/plain": [
       "<Figure size 432x288 with 1 Axes>"
      ]
     },
     "metadata": {
      "needs_background": "light"
     },
     "output_type": "display_data"
    }
   ],
   "source": [
    "msg = np.reshape(np.array(message), [6, 25])\n",
    "\n",
    "plt.imshow(msg, cmap='gray')"
   ]
  }
 ],
 "metadata": {
  "kernelspec": {
   "display_name": "Python 3",
   "language": "python",
   "name": "python3"
  },
  "language_info": {
   "codemirror_mode": {
    "name": "ipython",
    "version": 3
   },
   "file_extension": ".py",
   "mimetype": "text/x-python",
   "name": "python",
   "nbconvert_exporter": "python",
   "pygments_lexer": "ipython3",
   "version": "3.7.3"
  }
 },
 "nbformat": 4,
 "nbformat_minor": 2
}
