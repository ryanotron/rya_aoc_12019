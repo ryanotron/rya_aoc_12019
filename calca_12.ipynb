{
 "cells": [
  {
   "cell_type": "code",
   "execution_count": 69,
   "metadata": {},
   "outputs": [],
   "source": [
    "import numpy as np\n",
    "from copy import deepcopy as dcop\n",
    "from itertools import combinations as combo\n",
    "\n",
    "def simulate(initials, n=1, n_report=10):\n",
    "    poses = dcop(initials)\n",
    "    velos = []\n",
    "    for i in range(len(poses)):\n",
    "        velo = []\n",
    "        for j in range(len(poses[0])):\n",
    "            velo.append(0)\n",
    "        velos.append(velo)\n",
    "    \n",
    "    # cycle\n",
    "    for i in range(n):\n",
    "        if (i % n_report) == 0:\n",
    "            print('step {:2d}'.format(i))\n",
    "        for l in range(len(poses)):\n",
    "            for k in range(len(poses[0])):\n",
    "                poses[l][k] += velos[l][k]\n",
    "            if (i % n_report) == 0:\n",
    "                print('pose=<x={: 3d}, y={: 3d}, z={: 3d}>, velo=<x={: 3d}, y={: 3d}, z={: 3d}>'\\\n",
    "                      .format(poses[l][0], poses[l][1], poses[l][2],\n",
    "                              velos[l][0], velos[l][1], velos[l][2]))\n",
    "                \n",
    "        if i > 0:\n",
    "            for d in range(len(poses[0])):\n",
    "                repeat = True\n",
    "                for m in range(len(poses)):\n",
    "                    rep_i = (poses[m][d] == initials[m][d])\n",
    "                    repeat = (repeat and rep_i)\n",
    "                if repeat:\n",
    "                    print('dimension {} repeats at cycle {}'.format(d, i))\n",
    "#                     print(poses)\n",
    "#                     print(initials)\n",
    "        \n",
    "        pots = [sum([abs(e) for e in moon]) for moon in poses]\n",
    "        kins = [sum([abs(e) for e in moon]) for moon in velos]\n",
    "        energy = 0\n",
    "        for pot, kin in zip(pots, kins):\n",
    "            energy += pot*kin\n",
    "        \n",
    "        if (i % n_report) == 0:\n",
    "            print('energy: {}'.format(energy))\n",
    "            print()\n",
    "        \n",
    "        # pairs\n",
    "        for a, b in combo(range(len(poses)), 2):\n",
    "            for k in range(len(poses[0])):\n",
    "                if poses[a][k] > poses[b][k]:\n",
    "                    velos[a][k] -= 1\n",
    "                    velos[b][k] += 1\n",
    "                elif poses[a][k] < poses[b][k]:\n",
    "                    velos[a][k] += 1\n",
    "                    velos[b][k] -= 1\n",
    "            \n",
    "    return poses, velos"
   ]
  },
  {
   "cell_type": "code",
   "execution_count": 76,
   "metadata": {},
   "outputs": [],
   "source": [
    "def sim2(initials, n_report=10):\n",
    "    poses = dcop(initials)\n",
    "    periods = [-1]*len(poses[0])\n",
    "    velos = []\n",
    "    for i in range(len(poses)):\n",
    "        velo = []\n",
    "        for j in range(len(poses[0])):\n",
    "            velo.append(0)\n",
    "        velos.append(velo)\n",
    "    \n",
    "    # cycle\n",
    "    i = 0\n",
    "    while True:\n",
    "        if (i % n_report) == 0:\n",
    "            print('step {:2d}'.format(i))\n",
    "        for l in range(len(poses)):\n",
    "            for k in range(len(poses[0])):\n",
    "                poses[l][k] += velos[l][k]\n",
    "            if (i % n_report) == 0:\n",
    "                print('pose=<x={: 3d}, y={: 3d}, z={: 3d}>, velo=<x={: 3d}, y={: 3d}, z={: 3d}>'\\\n",
    "                      .format(poses[l][0], poses[l][1], poses[l][2],\n",
    "                              velos[l][0], velos[l][1], velos[l][2]))\n",
    "                \n",
    "        if i > 0:\n",
    "            for d in range(len(poses[0])):\n",
    "                repeat = True\n",
    "                for m in range(len(poses)):\n",
    "                    rep_i = (poses[m][d] == initials[m][d])\n",
    "                    repeat = (repeat and rep_i)\n",
    "                if repeat:\n",
    "                    print('dimension {} repeats at cycle {}'.format(d, i))\n",
    "                    if periods[d] < 0:\n",
    "                        periods[d] = i + 1\n",
    "                    \n",
    "                done = True\n",
    "                for per in periods:\n",
    "                    done = done and (per > 0)\n",
    "                    \n",
    "                if done:\n",
    "                    return periods, poses, velos\n",
    "        \n",
    "        pots = [sum([abs(e) for e in moon]) for moon in poses]\n",
    "        kins = [sum([abs(e) for e in moon]) for moon in velos]\n",
    "        energy = 0\n",
    "        for pot, kin in zip(pots, kins):\n",
    "            energy += pot*kin\n",
    "        \n",
    "        if (i % n_report) == 0:\n",
    "            print('energy: {}'.format(energy))\n",
    "            print()\n",
    "        \n",
    "        i += 1\n",
    "        # pairs\n",
    "        for a, b in combo(range(len(poses)), 2):\n",
    "            for k in range(len(poses[0])):\n",
    "                if poses[a][k] > poses[b][k]:\n",
    "                    velos[a][k] -= 1\n",
    "                    velos[b][k] += 1\n",
    "                elif poses[a][k] < poses[b][k]:\n",
    "                    velos[a][k] += 1\n",
    "                    velos[b][k] -= 1"
   ]
  },
  {
   "cell_type": "code",
   "execution_count": 78,
   "metadata": {},
   "outputs": [
    {
     "name": "stdout",
     "output_type": "stream",
     "text": [
      "step  0\n",
      "pose=<x= -1, y=  0, z=  2>, velo=<x=  0, y=  0, z=  0>\n",
      "pose=<x=  2, y=-10, z= -7>, velo=<x=  0, y=  0, z=  0>\n",
      "pose=<x=  4, y= -8, z=  8>, velo=<x=  0, y=  0, z=  0>\n",
      "pose=<x=  3, y=  5, z= -1>, velo=<x=  0, y=  0, z=  0>\n",
      "energy: 0\n",
      "\n",
      "dimension 0 repeats at cycle 17\n",
      "dimension 0 repeats at cycle 18\n",
      "dimension 1 repeats at cycle 27\n",
      "dimension 1 repeats at cycle 28\n",
      "dimension 0 repeats at cycle 35\n",
      "dimension 0 repeats at cycle 36\n",
      "dimension 2 repeats at cycle 43\n"
     ]
    },
    {
     "data": {
      "text/plain": [
       "2772"
      ]
     },
     "execution_count": 78,
     "metadata": {},
     "output_type": "execute_result"
    }
   ],
   "source": [
    "initials = [[-1, 0, 2],\n",
    "            [2, -10, -7],\n",
    "            [4, -8, 8],\n",
    "            [3, 5, -1]]\n",
    "\n",
    "# p, v = simulate(initials, 101, 100)\n",
    "per, pos, vel = sim2(initials, 100)\n",
    "np.lcm(np.lcm(per[0], per[1]), per[2])"
   ]
  },
  {
   "cell_type": "code",
   "execution_count": 80,
   "metadata": {},
   "outputs": [
    {
     "name": "stdout",
     "output_type": "stream",
     "text": [
      "step  0\n",
      "pose=<x= -8, y=-10, z=  0>, velo=<x=  0, y=  0, z=  0>\n",
      "pose=<x=  5, y=  5, z= 10>, velo=<x=  0, y=  0, z=  0>\n",
      "pose=<x=  2, y= -7, z=  3>, velo=<x=  0, y=  0, z=  0>\n",
      "pose=<x=  9, y= -8, z= -3>, velo=<x=  0, y=  0, z=  0>\n",
      "energy: 0\n",
      "\n",
      "dimension 0 repeats at cycle 2027\n",
      "dimension 0 repeats at cycle 2028\n",
      "dimension 0 repeats at cycle 4055\n",
      "dimension 0 repeats at cycle 4056\n",
      "dimension 2 repeats at cycle 4701\n",
      "dimension 2 repeats at cycle 4702\n",
      "dimension 1 repeats at cycle 5897\n"
     ]
    },
    {
     "data": {
      "text/plain": [
       "4686774924"
      ]
     },
     "execution_count": 80,
     "metadata": {},
     "output_type": "execute_result"
    }
   ],
   "source": [
    "# <x=-8, y=-10, z=0>\n",
    "# <x=5, y=5, z=10>\n",
    "# <x=2, y=-7, z=3>\n",
    "# <x=9, y=-8, z=-3>\n",
    "\n",
    "initials = [[-8, -10, 0],\n",
    "            [5, 5, 10],\n",
    "            [2, -7, 3],\n",
    "            [9, -8, -3]]\n",
    "\n",
    "# p, v = simulate(initials, 101, 10)\n",
    "per, pos, vel = sim2(initials, 10000)\n",
    "np.lcm(np.lcm(per[0], per[1]), per[2])\n",
    "# 4686774924"
   ]
  },
  {
   "cell_type": "code",
   "execution_count": 81,
   "metadata": {},
   "outputs": [
    {
     "name": "stdout",
     "output_type": "stream",
     "text": [
      "step  0\n",
      "pose=<x= 14, y=  4, z=  5>, velo=<x=  0, y=  0, z=  0>\n",
      "pose=<x= 12, y= 10, z=  8>, velo=<x=  0, y=  0, z=  0>\n",
      "pose=<x=  1, y=  7, z=-10>, velo=<x=  0, y=  0, z=  0>\n",
      "pose=<x= 16, y= -5, z=  3>, velo=<x=  0, y=  0, z=  0>\n",
      "energy: 0\n",
      "\n",
      "dimension 1 repeats at cycle 135023\n",
      "dimension 1 repeats at cycle 135024\n",
      "dimension 0 repeats at cycle 167623\n",
      "dimension 0 repeats at cycle 167624\n",
      "dimension 2 repeats at cycle 231613\n"
     ]
    },
    {
     "data": {
      "text/plain": [
       "327636285682704"
      ]
     },
     "execution_count": 81,
     "metadata": {},
     "output_type": "execute_result"
    }
   ],
   "source": [
    "# <x=14, y=4, z=5>\n",
    "# <x=12, y=10, z=8>\n",
    "# <x=1, y=7, z=-10>\n",
    "# <x=16, y=-5, z=3>\n",
    "\n",
    "initials = [[14,  4, 5],\n",
    "            [12, 10, 8],\n",
    "            [1, 7, -10],\n",
    "            [16, -5, 3]]\n",
    "\n",
    "# p, v = simulate(initials, 1001, 500)\n",
    "per, pos, vel = sim2(initials, 1e6)\n",
    "np.lcm(np.lcm(per[0], per[1]), per[2])"
   ]
  }
 ],
 "metadata": {
  "kernelspec": {
   "display_name": "Python 3",
   "language": "python",
   "name": "python3"
  },
  "language_info": {
   "codemirror_mode": {
    "name": "ipython",
    "version": 3
   },
   "file_extension": ".py",
   "mimetype": "text/x-python",
   "name": "python",
   "nbconvert_exporter": "python",
   "pygments_lexer": "ipython3",
   "version": "3.7.3"
  }
 },
 "nbformat": 4,
 "nbformat_minor": 2
}
