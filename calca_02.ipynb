{
 "cells": [
  {
   "cell_type": "code",
   "execution_count": 15,
   "metadata": {},
   "outputs": [],
   "source": [
    "def intcode(inlist):\n",
    "    i = 0\n",
    "    while not inlist[i] == 99:\n",
    "        opcode = inlist[i]\n",
    "        if inlist[i] == 1:\n",
    "            argidx0 = inlist[i+1]\n",
    "            argidx1 = inlist[i+2]\n",
    "            residx = inlist[i+3]\n",
    "#             print('sum', inlist[i], argidx0, argidx1, residx)\n",
    "            inlist[residx] = inlist[argidx0] + inlist[argidx1]\n",
    "            i += 4\n",
    "        elif inlist[i] == 2:\n",
    "            argidx0 = inlist[i+1]\n",
    "            argidx1 = inlist[i+2]\n",
    "            residx = inlist[i+3]\n",
    "#             print('prd', inlist[i], argidx0, argidx1, residx)\n",
    "            inlist[residx] = inlist[argidx0] * inlist[argidx1]\n",
    "            i += 4\n",
    "        else:\n",
    "            print('Unrecognised opcode {}. Memory dump:\\n{}'.format(inlist[i], inlist))\n",
    "    return inlist"
   ]
  },
  {
   "cell_type": "code",
   "execution_count": 16,
   "metadata": {},
   "outputs": [
    {
     "name": "stdout",
     "output_type": "stream",
     "text": [
      "[5866714, 12, 2, 2, 1, 1, 2, 3, 1, 3, 4, 3, 1, 5, 0, 3, 2, 13, 1, 60, 1, 19, 10, 64, 1, 23, 6, 66, 1, 6, 27, 68, 1, 13, 31, 73, 1, 13, 35, 78, 1, 39, 13, 83, 2, 43, 9, 249, 2, 6, 47, 498, 1, 51, 9, 501, 1, 55, 9, 504, 1, 59, 6, 506, 1, 9, 63, 509, 2, 67, 10, 2036, 2, 71, 13, 10180, 1, 10, 75, 10184, 2, 10, 79, 40736, 1, 83, 6, 40738, 2, 87, 10, 162952, 1, 91, 6, 162954, 1, 95, 13, 162959, 1, 99, 13, 162964, 2, 103, 9, 488892, 2, 107, 10, 1955568, 1, 5, 111, 1955569, 2, 115, 9, 5866707, 1, 5, 119, 5866708, 1, 123, 9, 5866711, 1, 127, 2, 5866713, 1, 5, 131, 0, 99, 2, 0, 14, 0]\n"
     ]
    }
   ],
   "source": [
    "inlist = [1,0,0,3,1,1,2,3,1,3,4,3,1,5,0,3,2,13,1,19,1,19,10,23,1,23,6,27,1,6,27,31,1,13,31,35,1,13,35,39,1,39,13,43,\n",
    "          2,43,9,47,2,6,47,51,1,51,9,55,1,55,9,59,1,59,6,63,1,9,63,67,2,67,10,71,2,71,13,75,1,10,75,79,2,10,79,83,1,\n",
    "          83,6,87,2,87,10,91,1,91,6,95,1,95,13,99,1,99,13,103,2,103,9,107,2,107,10,111,1,5,111,115,2,115,9,119,1,5,\n",
    "          119,123,1,123,9,127,1,127,2,131,1,5,131,0,99,2,0,14,0]\n",
    "inlist[1] = 12\n",
    "inlist[2] = 2\n",
    "outlist = intcode(inlist)\n",
    "print(outlist)"
   ]
  },
  {
   "cell_type": "code",
   "execution_count": 17,
   "metadata": {},
   "outputs": [
    {
     "name": "stdout",
     "output_type": "stream",
     "text": [
      "0 12\n",
      "0 2\n"
     ]
    }
   ],
   "source": [
    "inlist = [1,0,0,3,1,1,2,3,1,3,4,3,1,5,0,3,2,13,1,19,1,19,10,23,1,23,6,27,1,6,27,31,1,13,31,35,1,13,35,39,1,39,13,43,\n",
    "          2,43,9,47,2,6,47,51,1,51,9,55,1,55,9,59,1,59,6,63,1,9,63,67,2,67,10,71,2,71,13,75,1,10,75,79,2,10,79,83,1,\n",
    "          83,6,87,2,87,10,91,1,91,6,95,1,95,13,99,1,99,13,103,2,103,9,107,2,107,10,111,1,5,111,115,2,115,9,119,1,5,\n",
    "          119,123,1,123,9,127,1,127,2,131,1,5,131,0,99,2,0,14,0]\n",
    "midlist = inlist.copy()\n",
    "midlist[1] = 12\n",
    "midlist[2] = 2\n",
    "\n",
    "print(inlist[1], midlist[1])\n",
    "print(inlist[2], midlist[2])"
   ]
  },
  {
   "cell_type": "code",
   "execution_count": 18,
   "metadata": {},
   "outputs": [
    {
     "name": "stdout",
     "output_type": "stream",
     "text": [
      "52 8 5208\n"
     ]
    }
   ],
   "source": [
    "found = False\n",
    "for n in range(100):\n",
    "    for v in range(100):\n",
    "        midlist = inlist.copy()\n",
    "        midlist[1] = n\n",
    "        midlist[2] = v\n",
    "        outlist = intcode(midlist)\n",
    "        if outlist[0] == 19690720:\n",
    "            found = True\n",
    "            print(n, v, 100*n + v)\n",
    "            break\n",
    "    if found:\n",
    "        break"
   ]
  }
 ],
 "metadata": {
  "kernelspec": {
   "display_name": "Python 3",
   "language": "python",
   "name": "python3"
  },
  "language_info": {
   "codemirror_mode": {
    "name": "ipython",
    "version": 3
   },
   "file_extension": ".py",
   "mimetype": "text/x-python",
   "name": "python",
   "nbconvert_exporter": "python",
   "pygments_lexer": "ipython3",
   "version": "3.7.3"
  }
 },
 "nbformat": 4,
 "nbformat_minor": 2
}
