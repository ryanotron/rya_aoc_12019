{
 "cells": [
  {
   "cell_type": "code",
   "execution_count": 2,
   "metadata": {},
   "outputs": [
    {
     "name": "stdout",
     "output_type": "stream",
     "text": [
      "A : 65\n",
      "B : 66\n",
      "C : 67\n",
      "R : 82\n",
      "L : 76\n",
      "0 : 48\n",
      "1 : 49\n",
      "2 : 50\n",
      "3 : 51\n",
      "4 : 52\n",
      "5 : 53\n",
      "6 : 54\n",
      "7 : 55\n",
      "8 : 56\n",
      "9 : 57\n",
      ", : 44\n",
      "y : 121\n",
      "n : 110\n",
      "\n",
      " : 10\n"
     ]
    }
   ],
   "source": [
    "chars = 'ABCRL0123456789,yn\\n'\n",
    "for ch in chars:\n",
    "    print(ch, ':', ord(ch))"
   ]
  }
 ],
 "metadata": {
  "kernelspec": {
   "display_name": "Python 3",
   "language": "python",
   "name": "python3"
  },
  "language_info": {
   "codemirror_mode": {
    "name": "ipython",
    "version": 3
   },
   "file_extension": ".py",
   "mimetype": "text/x-python",
   "name": "python",
   "nbconvert_exporter": "python",
   "pygments_lexer": "ipython3",
   "version": "3.7.3"
  }
 },
 "nbformat": 4,
 "nbformat_minor": 2
}
